{
 "cells": [
  {
   "cell_type": "markdown",
   "metadata": {},
   "source": [
    "This exercise will require you to pull some data from the Qunadl API. Qaundl is currently the most widely used aggregator of financial market data."
   ]
  },
  {
   "cell_type": "markdown",
   "metadata": {},
   "source": [
    "As a first step, you will need to register a free account on the http://www.quandl.com website."
   ]
  },
  {
   "cell_type": "markdown",
   "metadata": {},
   "source": [
    "After you register, you will be provided with a unique API key, that you should store:"
   ]
  },
  {
   "cell_type": "code",
   "execution_count": 99,
   "metadata": {},
   "outputs": [],
   "source": [
    "# Store the API key as a string - according to PEP8, constants are always named in all upper case\n",
    "API_KEY = 'RhFJL3na9BghhJshnzar'"
   ]
  },
  {
   "cell_type": "markdown",
   "metadata": {},
   "source": [
    "Qaundl has a large number of data sources, but, unfortunately, most of them require a Premium subscription. Still, there are also a good number of free datasets."
   ]
  },
  {
   "cell_type": "markdown",
   "metadata": {},
   "source": [
    "For this mini project, we will focus on equities data from the Frankfurt Stock Exhange (FSE), which is available for free. We'll try and analyze the stock prices of a company called Carl Zeiss Meditec, which manufactures tools for eye examinations, as well as medical lasers for laser eye surgery: https://www.zeiss.com/meditec/int/home.html. The company is listed under the stock ticker AFX_X."
   ]
  },
  {
   "cell_type": "markdown",
   "metadata": {},
   "source": [
    "You can find the detailed Quandl API instructions here: https://docs.quandl.com/docs/time-series"
   ]
  },
  {
   "cell_type": "markdown",
   "metadata": {},
   "source": [
    "While there is a dedicated Python package for connecting to the Quandl API, we would prefer that you use the *requests* package, which can be easily downloaded using *pip* or *conda*. You can find the documentation for the package here: http://docs.python-requests.org/en/master/ "
   ]
  },
  {
   "cell_type": "markdown",
   "metadata": {},
   "source": [
    "Finally, apart from the *requests* package, you are encouraged to not use any third party Python packages, such as *pandas*, and instead focus on what's available in the Python Standard Library (the *collections* module might come in handy: https://pymotw.com/3/collections/ ).\n",
    "Also, since you won't have access to DataFrames, you are encouraged to us Python's native data structures - preferably dictionaries, though some questions can also be answered using lists.\n",
    "You can read more on these data structures here: https://docs.python.org/3/tutorial/datastructures.html"
   ]
  },
  {
   "cell_type": "markdown",
   "metadata": {},
   "source": [
    "Keep in mind that the JSON responses you will be getting from the API map almost one-to-one to Python's dictionaries. Unfortunately, they can be very nested, so make sure you read up on indexing dictionaries in the documentation provided above."
   ]
  },
  {
   "cell_type": "code",
   "execution_count": 100,
   "metadata": {},
   "outputs": [],
   "source": [
    "import requests\n",
    "import json"
   ]
  },
  {
   "cell_type": "code",
   "execution_count": 101,
   "metadata": {},
   "outputs": [],
   "source": [
    "url = 'https://www.quandl.com/api/v3/datasets/FSE/AFX_X.json?start_date=2020-01-01&end_date=2020-01-02&api_key='+API_KEY\n",
    "response = requests.get(url)"
   ]
  },
  {
   "cell_type": "code",
   "execution_count": 102,
   "metadata": {},
   "outputs": [
    {
     "name": "stdout",
     "output_type": "stream",
     "text": [
      "{'dataset': {'id': 10095370, 'dataset_code': 'AFX_X', 'database_code': 'FSE', 'name': 'Carl Zeiss Meditec (AFX_X)', 'description': 'Stock Prices for Carl Zeiss Meditec (2020-02-28) from the Frankfurt Stock Exchange.<br><br>Trading System: Xetra<br><br>ISIN: DE0005313704', 'refreshed_at': '2020-03-13T22:16:36.669Z', 'newest_available_date': '2020-03-13', 'oldest_available_date': '2000-06-07', 'column_names': ['Date', 'Open', 'High', 'Low', 'Close', 'Change', 'Traded Volume', 'Turnover', 'Last Price of the Day', 'Daily Traded Units', 'Daily Turnover'], 'frequency': 'daily', 'type': 'Time Series', 'premium': False, 'limit': None, 'transform': None, 'column_index': None, 'start_date': '2020-01-01', 'end_date': '2020-01-02', 'data': [['2020-01-02', 114.0, 114.9, 112.7, 113.8, None, 143464.0, 16291666.0, None, None, None]], 'collapse': None, 'order': None, 'database_id': 6129}}\n"
     ]
    }
   ],
   "source": [
    "print(response.json())"
   ]
  },
  {
   "cell_type": "markdown",
   "metadata": {},
   "source": [
    "These are your tasks for this mini project:\n",
    "\n",
    "1. Collect data from the Franfurt Stock Exchange, for the ticker AFX_X, for the whole year 2017 (keep in mind that the date format is YYYY-MM-DD).\n",
    "2. Convert the returned JSON object into a Python dictionary.\n",
    "3. Calculate what the highest and lowest opening prices were for the stock in this period.\n",
    "4. What was the largest change in any one day (based on High and Low price)?\n",
    "5. What was the largest change between any two days (based on Closing Price)?\n",
    "6. What was the average daily trading volume during this year?\n",
    "7. (Optional) What was the median trading volume during this year. (Note: you may need to implement your own function for calculating the median.)"
   ]
  },
  {
   "cell_type": "markdown",
   "metadata": {
    "collapsed": true
   },
   "source": [
    "# Task 1:\n",
    "### Extracting Data From Franfurt Stock Exchange For the Ticker AFX_X For The Period 2017"
   ]
  },
  {
   "cell_type": "code",
   "execution_count": 103,
   "metadata": {},
   "outputs": [],
   "source": [
    "url = 'https://www.quandl.com/api/v3/datasets/FSE/AFX_X.json?start_date=2017-01-01&end_date=2017-12-31&api_key='+API_KEY\n",
    "response = requests.get(url)"
   ]
  },
  {
   "cell_type": "markdown",
   "metadata": {},
   "source": [
    "# Task 2:\n",
    "### Convert The Returned JSON Object Into A Python Dictionary"
   ]
  },
  {
   "cell_type": "code",
   "execution_count": 104,
   "metadata": {},
   "outputs": [],
   "source": [
    "jsondata_2017 = response.json()"
   ]
  },
  {
   "cell_type": "markdown",
   "metadata": {},
   "source": [
    "# Task 3:\n",
    "### Calculate what the highest and lowest opening prices were for the stock in this period."
   ]
  },
  {
   "cell_type": "code",
   "execution_count": 105,
   "metadata": {},
   "outputs": [
    {
     "name": "stdout",
     "output_type": "stream",
     "text": [
      "The highest opening price for the period is $53.11\n",
      "The lowest opening price for the period is $34.0\n"
     ]
    }
   ],
   "source": [
    "all_opens_data_2017 = []\n",
    "for daily_data in jsondata_2017['dataset']['data']:\n",
    "    if type(daily_data[1]) == float:\n",
    "        all_opens_data_2017.append(daily_data[1])\n",
    "print('The highest opening price for the period is ' + '$'+ str(max(all_opens_data_2017)))\n",
    "print('The lowest opening price for the period is ' + '$'+ str(min(all_opens_data_2017)))"
   ]
  },
  {
   "cell_type": "markdown",
   "metadata": {},
   "source": [
    "# Task 4: \n",
    "### What was the largest change in any one day (based on High and Low price)?\n"
   ]
  },
  {
   "cell_type": "code",
   "execution_count": 106,
   "metadata": {},
   "outputs": [],
   "source": [
    "all_max_data_2017 = []\n",
    "for daily_data in jsondata_2017['dataset']['data']:\n",
    "    if type(daily_data[2]) == float:\n",
    "        all_max_data_2017.append(daily_data[1])\n",
    "all_min_data_2017 = []\n",
    "for daily_data in jsondata_2017['dataset']['data']:\n",
    "    if type(daily_data[3]) == float:\n",
    "        all_min_data_2017.append(daily_data[3])"
   ]
  },
  {
   "cell_type": "code",
   "execution_count": 109,
   "metadata": {},
   "outputs": [
    {
     "name": "stdout",
     "output_type": "stream",
     "text": [
      "The largest change in any one day: $2.8100000000000023\n"
     ]
    }
   ],
   "source": [
    "price_changes = []\n",
    "for data in jsondata_2017['dataset']['data']: \n",
    "    if type(data[2]) == float and type(data[3]) == float:\n",
    "        change = data[2] - data[3]\n",
    "        price_changes.append(change)\n",
    "max_change = str(max(price_changes))\n",
    "print('The largest change in any one day: $' + max_change)"
   ]
  },
  {
   "cell_type": "markdown",
   "metadata": {},
   "source": [
    "# Task 5:\n",
    "### What was the largest change between any two days (based on Closing Price)?"
   ]
  },
  {
   "cell_type": "code",
   "execution_count": 110,
   "metadata": {},
   "outputs": [
    {
     "name": "stdout",
     "output_type": "stream",
     "text": [
      "the maximum two day change is $2.559999999999995\n"
     ]
    }
   ],
   "source": [
    "closing_prices = []\n",
    "for data in jsondata_2017['dataset']['data']: \n",
    "    if type(data[4]) == float:\n",
    "        closing_prices.append(data[4])\n",
    "two_day_change = []\n",
    "for a in range(len(closing_prices)):\n",
    "    if a != 0:\n",
    "        two_day_change.append(closing_prices[a]-closing_prices[a-1])\n",
    "max_closing_price_change = str(max(two_day_change))\n",
    "print('the maximum two day change is ' + '$'+ max_closing_price_change)"
   ]
  },
  {
   "cell_type": "markdown",
   "metadata": {},
   "source": [
    "# Task 6:\n",
    "### What was the average daily trading volume during this year?"
   ]
  },
  {
   "cell_type": "code",
   "execution_count": 111,
   "metadata": {},
   "outputs": [
    {
     "name": "stdout",
     "output_type": "stream",
     "text": [
      "The average daily trading volume during 2017 was $89124.33725490196\n"
     ]
    }
   ],
   "source": [
    "daily_traded_volume_2017=[]\n",
    "for daily_data in jsondata_2017['dataset']['data']:\n",
    "    if type(daily_data[6]) == float:\n",
    "        daily_traded_volume_2017.append(daily_data[6])\n",
    "average = sum(daily_traded_volume_2017)/len(daily_traded_volume_2017)\n",
    "str_average = str(average)\n",
    "print(\"The average daily trading volume during 2017 was \" + '$' + str_average)"
   ]
  },
  {
   "cell_type": "markdown",
   "metadata": {},
   "source": [
    "# Task 7:\n",
    "### What was the median trading volume during this year. "
   ]
  },
  {
   "cell_type": "code",
   "execution_count": 124,
   "metadata": {},
   "outputs": [
    {
     "name": "stdout",
     "output_type": "stream",
     "text": [
      "The median value for the daily trading volume this year is $76286.0\n"
     ]
    }
   ],
   "source": [
    "if len(daily_traded_volume_2017) < 1:\n",
    "    median =None\n",
    "elif (len(daily_traded_volume_2017))%2 == 1:\n",
    "    sorted_daily_traded_volume_2017 = sorted(daily_traded_volume_2017)\n",
    "    median = (sorted_daily_traded_volume_2017[int(len(daily_traded_volume_2017)/2)])\n",
    "else:\n",
    "    median = (float(sorted_daily_traded_volume_2017[int(len(daily_traded_volume_2017)/2)]) + (sorted_daily_traded_volume_2017)[int(len(daily_traded_volume_2017)/2)-1])/2\n",
    "str_median = str(median)\n",
    "print(\"The median value for the daily trading volume this year is \" + '$' + str_median)"
   ]
  }
 ],
 "metadata": {
  "kernelspec": {
   "display_name": "Python 3",
   "language": "python",
   "name": "python3"
  },
  "language_info": {
   "codemirror_mode": {
    "name": "ipython",
    "version": 3
   },
   "file_extension": ".py",
   "mimetype": "text/x-python",
   "name": "python",
   "nbconvert_exporter": "python",
   "pygments_lexer": "ipython3",
   "version": "3.7.3"
  }
 },
 "nbformat": 4,
 "nbformat_minor": 2
}
